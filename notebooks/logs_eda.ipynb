{
 "cells": [
  {
   "cell_type": "markdown",
   "metadata": {},
   "source": [
    "# Thunderbird 2 supercomputer logs EDA\n",
    "\n",
    "## Introduction\n",
    "This notebook contains exploratory data analysis of Thunderbird 2 supercomputer logs that is a part of CFDR data (see https://www.usenix.org/cfdr-data). CFDR data contains logs of 22 high-performance computing systems. The workloads run on those systems are large-scale long-running 3D scientific simulations, e.g. for nuclear stockpile stewardship. \n",
    "\n",
    "Original dataset used for extracting the sample under analysis is a raw text file containing event logs collected between 2004 and 2006 containing alert and non-alert messages identified by alert category tags. Thunderbird supercomputer logs dataset is suitable for alert detection and prediction research.\n",
    "\n",
    "## The data set overview\n",
    "Thunderbird original logs contain 211,212,192 messages, where 3,248,239 of them are related to 10 categories of alerts.  Non-alert messages are starting with \"-\" mark.\n",
    "\n",
    "The logs were collected using UDP protocol for transmission. Some alert messages are missing in sample records that was caused by network connection interruption.\n",
    "\n",
    "The data sample used for further analysis is extracted from the original one as a random subsample containing 0,5% of records.\n",
    "\n",
    "More detailed dataset description can be found in the paper written by Adam Oliner and Jon Stearley [1].\n",
    "\n",
    "## References\n",
    "1. Oliner, Adam & Stearley, Jon. (2007). What Supercomputers Say: A Study of Five System Logs. 575-584. 10.1109/DSN.2007.103. \n"
   ]
  },
  {
   "cell_type": "markdown",
   "metadata": {},
   "source": [
    "# Exploratory data analysis\n",
    "\n",
    "## I. The dataset overview and preprocessing\n",
    "\n"
   ]
  },
  {
   "cell_type": "markdown",
   "metadata": {},
   "source": [
    "Load the dataset:"
   ]
  },
  {
   "cell_type": "code",
   "execution_count": 1,
   "metadata": {
    "pycharm": {
     "is_executing": false
    }
   },
   "outputs": [
    {
     "data": {
      "text/html": [
       "<div>\n",
       "<style scoped>\n",
       "    .dataframe tbody tr th:only-of-type {\n",
       "        vertical-align: middle;\n",
       "    }\n",
       "\n",
       "    .dataframe tbody tr th {\n",
       "        vertical-align: top;\n",
       "    }\n",
       "\n",
       "    .dataframe thead th {\n",
       "        text-align: right;\n",
       "    }\n",
       "</style>\n",
       "<table border=\"1\" class=\"dataframe\">\n",
       "  <thead>\n",
       "    <tr style=\"text-align: right;\">\n",
       "      <th></th>\n",
       "      <th>alert_class</th>\n",
       "      <th>message_id</th>\n",
       "      <th>date</th>\n",
       "      <th>host_name</th>\n",
       "      <th>month</th>\n",
       "      <th>day</th>\n",
       "      <th>time</th>\n",
       "      <th>host_privilege</th>\n",
       "      <th>tool</th>\n",
       "      <th>message</th>\n",
       "    </tr>\n",
       "  </thead>\n",
       "  <tbody>\n",
       "    <tr>\n",
       "      <th>0</th>\n",
       "      <td>-</td>\n",
       "      <td>1136327431</td>\n",
       "      <td>2006.01.03</td>\n",
       "      <td>an922</td>\n",
       "      <td>Jan</td>\n",
       "      <td>3</td>\n",
       "      <td>14:30:31</td>\n",
       "      <td>an922/an922</td>\n",
       "      <td>smartd[1976]:</td>\n",
       "      <td>Configuration file /etc/smartd.conf parsed.</td>\n",
       "    </tr>\n",
       "    <tr>\n",
       "      <th>1</th>\n",
       "      <td>-</td>\n",
       "      <td>1135346286</td>\n",
       "      <td>2005.12.23</td>\n",
       "      <td>dn669</td>\n",
       "      <td>Dec</td>\n",
       "      <td>23</td>\n",
       "      <td>05:58:06</td>\n",
       "      <td>dn669/dn669</td>\n",
       "      <td>crond[1281]:</td>\n",
       "      <td>(root) CMD (run-parts /etc/cron.hourly)</td>\n",
       "    </tr>\n",
       "    <tr>\n",
       "      <th>2</th>\n",
       "      <td>-</td>\n",
       "      <td>1136415929</td>\n",
       "      <td>2006.01.04</td>\n",
       "      <td>bn948</td>\n",
       "      <td>Jan</td>\n",
       "      <td>4</td>\n",
       "      <td>15:05:29</td>\n",
       "      <td>bn948/bn948</td>\n",
       "      <td>kernel:</td>\n",
       "      <td>Probing IDE interface ide4...</td>\n",
       "    </tr>\n",
       "    <tr>\n",
       "      <th>3</th>\n",
       "      <td>-</td>\n",
       "      <td>1134356625</td>\n",
       "      <td>2005.12.11</td>\n",
       "      <td>an212</td>\n",
       "      <td>Dec</td>\n",
       "      <td>11</td>\n",
       "      <td>19:03:45</td>\n",
       "      <td>an212/an212</td>\n",
       "      <td>Server</td>\n",
       "      <td>Administrator: Instrumentation Service EventID...</td>\n",
       "    </tr>\n",
       "    <tr>\n",
       "      <th>4</th>\n",
       "      <td>-</td>\n",
       "      <td>1135321264</td>\n",
       "      <td>2005.12.22</td>\n",
       "      <td>an23</td>\n",
       "      <td>Dec</td>\n",
       "      <td>22</td>\n",
       "      <td>23:01:04</td>\n",
       "      <td>an23/an23</td>\n",
       "      <td>crond(pam_unix)[6624]:</td>\n",
       "      <td>session closed for user root</td>\n",
       "    </tr>\n",
       "  </tbody>\n",
       "</table>\n",
       "</div>"
      ],
      "text/plain": [
       "  alert_class  message_id        date host_name month  day      time  \\\n",
       "0           -  1136327431  2006.01.03     an922   Jan    3  14:30:31   \n",
       "1           -  1135346286  2005.12.23     dn669   Dec   23  05:58:06   \n",
       "2           -  1136415929  2006.01.04     bn948   Jan    4  15:05:29   \n",
       "3           -  1134356625  2005.12.11     an212   Dec   11  19:03:45   \n",
       "4           -  1135321264  2005.12.22      an23   Dec   22  23:01:04   \n",
       "\n",
       "  host_privilege                    tool  \\\n",
       "0    an922/an922           smartd[1976]:   \n",
       "1    dn669/dn669            crond[1281]:   \n",
       "2    bn948/bn948                 kernel:   \n",
       "3    an212/an212                  Server   \n",
       "4      an23/an23  crond(pam_unix)[6624]:   \n",
       "\n",
       "                                             message  \n",
       "0        Configuration file /etc/smartd.conf parsed.  \n",
       "1            (root) CMD (run-parts /etc/cron.hourly)  \n",
       "2                      Probing IDE interface ide4...  \n",
       "3  Administrator: Instrumentation Service EventID...  \n",
       "4                       session closed for user root  "
      ]
     },
     "execution_count": 1,
     "metadata": {},
     "output_type": "execute_result"
    }
   ],
   "source": [
    "%matplotlib inline\n",
    "import pandas as pd\n",
    "import matplotlib.pyplot as plt\n",
    "import seaborn as sns\n",
    "import featuretools as ft\n",
    "import gc\n",
    "import numpy as np\n",
    "from sklearn.preprocessing import LabelEncoder\n",
    "\n",
    "data = pd.read_csv(\"../data/tbird2_sample.csv\")\n",
    "data.head()"
   ]
  },
  {
   "cell_type": "code",
   "execution_count": 2,
   "metadata": {
    "pycharm": {
     "is_executing": false
    }
   },
   "outputs": [
    {
     "data": {
      "text/plain": [
       "(229667, 10)"
      ]
     },
     "execution_count": 2,
     "metadata": {},
     "output_type": "execute_result"
    }
   ],
   "source": [
    "data.shape"
   ]
  },
  {
   "cell_type": "markdown",
   "metadata": {},
   "source": [
    "Extract new static timestamp features from datetime and time columns:"
   ]
  },
  {
   "cell_type": "code",
   "execution_count": 3,
   "metadata": {
    "pycharm": {
     "is_executing": false
    }
   },
   "outputs": [
    {
     "data": {
      "text/html": [
       "<div>\n",
       "<style scoped>\n",
       "    .dataframe tbody tr th:only-of-type {\n",
       "        vertical-align: middle;\n",
       "    }\n",
       "\n",
       "    .dataframe tbody tr th {\n",
       "        vertical-align: top;\n",
       "    }\n",
       "\n",
       "    .dataframe thead th {\n",
       "        text-align: right;\n",
       "    }\n",
       "</style>\n",
       "<table border=\"1\" class=\"dataframe\">\n",
       "  <thead>\n",
       "    <tr style=\"text-align: right;\">\n",
       "      <th></th>\n",
       "      <th>alert_class</th>\n",
       "      <th>message_id</th>\n",
       "      <th>host_name</th>\n",
       "      <th>host_privilege</th>\n",
       "      <th>tool</th>\n",
       "      <th>message</th>\n",
       "      <th>datetime</th>\n",
       "      <th>unix_date</th>\n",
       "      <th>weekday</th>\n",
       "    </tr>\n",
       "  </thead>\n",
       "  <tbody>\n",
       "    <tr>\n",
       "      <th>0</th>\n",
       "      <td>-</td>\n",
       "      <td>1136327431</td>\n",
       "      <td>an922</td>\n",
       "      <td>an922/an922</td>\n",
       "      <td>smartd[1976]:</td>\n",
       "      <td>Configuration file /etc/smartd.conf parsed.</td>\n",
       "      <td>2006-01-03 14:30:31</td>\n",
       "      <td>1.136299e+12</td>\n",
       "      <td>1</td>\n",
       "    </tr>\n",
       "    <tr>\n",
       "      <th>1</th>\n",
       "      <td>-</td>\n",
       "      <td>1135346286</td>\n",
       "      <td>dn669</td>\n",
       "      <td>dn669/dn669</td>\n",
       "      <td>crond[1281]:</td>\n",
       "      <td>(root) CMD (run-parts /etc/cron.hourly)</td>\n",
       "      <td>2005-12-23 05:58:06</td>\n",
       "      <td>1.135317e+12</td>\n",
       "      <td>4</td>\n",
       "    </tr>\n",
       "    <tr>\n",
       "      <th>2</th>\n",
       "      <td>-</td>\n",
       "      <td>1136415929</td>\n",
       "      <td>bn948</td>\n",
       "      <td>bn948/bn948</td>\n",
       "      <td>kernel:</td>\n",
       "      <td>Probing IDE interface ide4...</td>\n",
       "      <td>2006-01-04 15:05:29</td>\n",
       "      <td>1.136387e+12</td>\n",
       "      <td>2</td>\n",
       "    </tr>\n",
       "    <tr>\n",
       "      <th>3</th>\n",
       "      <td>-</td>\n",
       "      <td>1134356625</td>\n",
       "      <td>an212</td>\n",
       "      <td>an212/an212</td>\n",
       "      <td>Server</td>\n",
       "      <td>Administrator: Instrumentation Service EventID...</td>\n",
       "      <td>2005-12-11 19:03:45</td>\n",
       "      <td>1.134328e+12</td>\n",
       "      <td>6</td>\n",
       "    </tr>\n",
       "    <tr>\n",
       "      <th>4</th>\n",
       "      <td>-</td>\n",
       "      <td>1135321264</td>\n",
       "      <td>an23</td>\n",
       "      <td>an23/an23</td>\n",
       "      <td>crond(pam_unix)[6624]:</td>\n",
       "      <td>session closed for user root</td>\n",
       "      <td>2005-12-22 23:01:04</td>\n",
       "      <td>1.135292e+12</td>\n",
       "      <td>3</td>\n",
       "    </tr>\n",
       "  </tbody>\n",
       "</table>\n",
       "</div>"
      ],
      "text/plain": [
       "  alert_class  message_id host_name host_privilege                    tool  \\\n",
       "0           -  1136327431     an922    an922/an922           smartd[1976]:   \n",
       "1           -  1135346286     dn669    dn669/dn669            crond[1281]:   \n",
       "2           -  1136415929     bn948    bn948/bn948                 kernel:   \n",
       "3           -  1134356625     an212    an212/an212                  Server   \n",
       "4           -  1135321264      an23      an23/an23  crond(pam_unix)[6624]:   \n",
       "\n",
       "                                             message            datetime  \\\n",
       "0        Configuration file /etc/smartd.conf parsed. 2006-01-03 14:30:31   \n",
       "1            (root) CMD (run-parts /etc/cron.hourly) 2005-12-23 05:58:06   \n",
       "2                      Probing IDE interface ide4... 2006-01-04 15:05:29   \n",
       "3  Administrator: Instrumentation Service EventID... 2005-12-11 19:03:45   \n",
       "4                       session closed for user root 2005-12-22 23:01:04   \n",
       "\n",
       "      unix_date  weekday  \n",
       "0  1.136299e+12        1  \n",
       "1  1.135317e+12        4  \n",
       "2  1.136387e+12        2  \n",
       "3  1.134328e+12        6  \n",
       "4  1.135292e+12        3  "
      ]
     },
     "execution_count": 3,
     "metadata": {},
     "output_type": "execute_result"
    }
   ],
   "source": [
    "data[\"date\"] = pd.to_datetime(data[\"date\"])\n",
    "data[\"datetime\"] = data['date'].astype(str).str.cat(data['time'].astype(str), sep=' ')\n",
    "data[\"datetime\"] = pd.to_datetime(data[\"datetime\"])\n",
    "data['unix_date'] = pd.DatetimeIndex(data['datetime']).astype(np.int64)/1000000\n",
    "data['weekday'] = data['datetime'].dt.weekday\n",
    "data.drop(['date'], 1, inplace=True)\n",
    "data.drop(['month'], 1, inplace=True)\n",
    "data.drop(['day'], 1, inplace=True)\n",
    "data.drop(['time'], 1, inplace=True)\n",
    "data.drop(['unix_date'], 1, inplace=True)\n",
    "data.head()"
   ]
  },
  {
   "cell_type": "markdown",
   "metadata": {},
   "source": [
    "Investigate **tool** feature:"
   ]
  },
  {
   "cell_type": "code",
   "execution_count": null,
   "metadata": {
    "pycharm": {
     "is_executing": false
    }
   },
   "outputs": [],
   "source": [
    "data['tool'].value_counts()"
   ]
  },
  {
   "cell_type": "markdown",
   "metadata": {},
   "source": [
    "Processes names are in the following forms:\n",
    "1. ***process_name:***\n",
    "2. ***process_name [process_id]:***\n",
    "3. ***process_name(authentication_module) [process_id]:***\n"
   ]
  },
  {
   "cell_type": "code",
   "execution_count": 4,
   "metadata": {
    "pycharm": {
     "is_executing": false
    }
   },
   "outputs": [
    {
     "data": {
      "text/html": [
       "<div>\n",
       "<style scoped>\n",
       "    .dataframe tbody tr th:only-of-type {\n",
       "        vertical-align: middle;\n",
       "    }\n",
       "\n",
       "    .dataframe tbody tr th {\n",
       "        vertical-align: top;\n",
       "    }\n",
       "\n",
       "    .dataframe thead th {\n",
       "        text-align: right;\n",
       "    }\n",
       "</style>\n",
       "<table border=\"1\" class=\"dataframe\">\n",
       "  <thead>\n",
       "    <tr style=\"text-align: right;\">\n",
       "      <th></th>\n",
       "      <th>alert_class</th>\n",
       "      <th>message_id</th>\n",
       "      <th>host_name</th>\n",
       "      <th>host_privilege</th>\n",
       "      <th>message</th>\n",
       "      <th>datetime</th>\n",
       "      <th>unix_date</th>\n",
       "      <th>weekday</th>\n",
       "      <th>process_id</th>\n",
       "      <th>tool_name</th>\n",
       "      <th>authentication</th>\n",
       "    </tr>\n",
       "  </thead>\n",
       "  <tbody>\n",
       "    <tr>\n",
       "      <th>0</th>\n",
       "      <td>-</td>\n",
       "      <td>1136327431</td>\n",
       "      <td>an922</td>\n",
       "      <td>an922/an922</td>\n",
       "      <td>Configuration file /etc/smartd.conf parsed.</td>\n",
       "      <td>2006-01-03 14:30:31</td>\n",
       "      <td>1.136299e+12</td>\n",
       "      <td>1</td>\n",
       "      <td>1976</td>\n",
       "      <td>smartd</td>\n",
       "      <td>NaN</td>\n",
       "    </tr>\n",
       "    <tr>\n",
       "      <th>1</th>\n",
       "      <td>-</td>\n",
       "      <td>1135346286</td>\n",
       "      <td>dn669</td>\n",
       "      <td>dn669/dn669</td>\n",
       "      <td>(root) CMD (run-parts /etc/cron.hourly)</td>\n",
       "      <td>2005-12-23 05:58:06</td>\n",
       "      <td>1.135317e+12</td>\n",
       "      <td>4</td>\n",
       "      <td>1281</td>\n",
       "      <td>crond</td>\n",
       "      <td>NaN</td>\n",
       "    </tr>\n",
       "    <tr>\n",
       "      <th>2</th>\n",
       "      <td>-</td>\n",
       "      <td>1136415929</td>\n",
       "      <td>bn948</td>\n",
       "      <td>bn948/bn948</td>\n",
       "      <td>Probing IDE interface ide4...</td>\n",
       "      <td>2006-01-04 15:05:29</td>\n",
       "      <td>1.136387e+12</td>\n",
       "      <td>2</td>\n",
       "      <td>NaN</td>\n",
       "      <td>kernel</td>\n",
       "      <td>NaN</td>\n",
       "    </tr>\n",
       "    <tr>\n",
       "      <th>3</th>\n",
       "      <td>-</td>\n",
       "      <td>1134356625</td>\n",
       "      <td>an212</td>\n",
       "      <td>an212/an212</td>\n",
       "      <td>Administrator: Instrumentation Service EventID...</td>\n",
       "      <td>2005-12-11 19:03:45</td>\n",
       "      <td>1.134328e+12</td>\n",
       "      <td>6</td>\n",
       "      <td>NaN</td>\n",
       "      <td>Server</td>\n",
       "      <td>NaN</td>\n",
       "    </tr>\n",
       "    <tr>\n",
       "      <th>4</th>\n",
       "      <td>-</td>\n",
       "      <td>1135321264</td>\n",
       "      <td>an23</td>\n",
       "      <td>an23/an23</td>\n",
       "      <td>session closed for user root</td>\n",
       "      <td>2005-12-22 23:01:04</td>\n",
       "      <td>1.135292e+12</td>\n",
       "      <td>3</td>\n",
       "      <td>6624</td>\n",
       "      <td>crond</td>\n",
       "      <td>pam_unix</td>\n",
       "    </tr>\n",
       "  </tbody>\n",
       "</table>\n",
       "</div>"
      ],
      "text/plain": [
       "  alert_class  message_id host_name host_privilege  \\\n",
       "0           -  1136327431     an922    an922/an922   \n",
       "1           -  1135346286     dn669    dn669/dn669   \n",
       "2           -  1136415929     bn948    bn948/bn948   \n",
       "3           -  1134356625     an212    an212/an212   \n",
       "4           -  1135321264      an23      an23/an23   \n",
       "\n",
       "                                             message            datetime  \\\n",
       "0        Configuration file /etc/smartd.conf parsed. 2006-01-03 14:30:31   \n",
       "1            (root) CMD (run-parts /etc/cron.hourly) 2005-12-23 05:58:06   \n",
       "2                      Probing IDE interface ide4... 2006-01-04 15:05:29   \n",
       "3  Administrator: Instrumentation Service EventID... 2005-12-11 19:03:45   \n",
       "4                       session closed for user root 2005-12-22 23:01:04   \n",
       "\n",
       "      unix_date  weekday process_id tool_name authentication  \n",
       "0  1.136299e+12        1       1976    smartd            NaN  \n",
       "1  1.135317e+12        4       1281     crond            NaN  \n",
       "2  1.136387e+12        2        NaN    kernel            NaN  \n",
       "3  1.134328e+12        6        NaN    Server            NaN  \n",
       "4  1.135292e+12        3       6624     crond       pam_unix  "
      ]
     },
     "execution_count": 4,
     "metadata": {},
     "output_type": "execute_result"
    }
   ],
   "source": [
    "data['tool'] = data['tool'].apply(lambda x: x.replace(':', '').replace('\\r\\n', ''))\n",
    "data['process_id'] = data['tool'].str.extract('.*\\[(.*)\\].*')\n",
    "data['tool'] = data['tool'].str.replace(r\"\\[.*\\]\",\"\") # delete process id from tool description\n",
    "data['tool_name'] = data['tool'].str.replace(r\"\\(.*\\)\",\"\")\n",
    "data['authentication'] = data['tool'].str.extract('.*\\((.*)\\).*')\n",
    "data.drop(['tool'], 1, inplace=True)\n",
    "\n",
    "data.head()"
   ]
  },
  {
   "cell_type": "code",
   "execution_count": 5,
   "metadata": {
    "pycharm": {
     "is_executing": false
    }
   },
   "outputs": [
    {
     "data": {
      "text/plain": [
       "kernel                                           101826\n",
       "ib_sm.x                                           27677\n",
       "crond                                             21174\n",
       "sshd                                              10820\n",
       "snmpd                                              9682\n",
       "Server                                             8894\n",
       "xinetd                                             7795\n",
       "ntpd                                               7051\n",
       "/apps/x86_64/system/ganglia-3.0.1/sbin/gmetad      5097\n",
       "dhcpd                                              4406\n",
       "sysctl                                             3971\n",
       "sendmail                                           1883\n",
       "smartd                                             1738\n",
       "rc.sysinit                                         1473\n",
       "fsck                                               1459\n",
       "logger                                             1097\n",
       "dataeng                                            1024\n",
       "VFS                                                 837\n",
       "kernel\\n                                            639\n",
       "pbs_mom                                             608\n",
       "mount                                               531\n",
       "network                                             514\n",
       "gmond                                               443\n",
       "syslog-ng                                           432\n",
       "instsvcdrv                                          423\n",
       "haldaemon                                           390\n",
       "syslog                                              384\n",
       "mount.panfs                                         357\n",
       "port_mgr.x                                          356\n",
       "netfs                                               348\n",
       "                                                  ...  \n",
       "BIOS-e820                                             2\n",
       "moab                                                  2\n",
       "--                                                    2\n",
       "THH                                                   1\n",
       "Built                                                 1\n",
       "ip_tables                                             1\n",
       "serio                                                 1\n",
       "drivers/usb/input/hid-core.c                          1\n",
       "Clock                                                 1\n",
       "usbcore                                               1\n",
       "umount                                                1\n",
       "IA32                                                  1\n",
       "killall                                               1\n",
       "login                                                 1\n",
       "nfsd                                                  1\n",
       "INT_SRC_OVR                                           1\n",
       "activating                                            1\n",
       "testing                                               1\n",
       "Memory                                                1\n",
       "ide                                                   1\n",
       "scsi                                                  1\n",
       "ide-floppy                                            1\n",
       "EXT3                                                  1\n",
       "mtrr                                                  1\n",
       "Total                                                 1\n",
       "pam_access                                            1\n",
       "ESR                                                   1\n",
       "hald                                                  1\n",
       "e1000                                                 1\n",
       "Booting                                               1\n",
       "Name: tool_name, Length: 122, dtype: int64"
      ]
     },
     "execution_count": 5,
     "metadata": {},
     "output_type": "execute_result"
    }
   ],
   "source": [
    "data['tool_name'].value_counts()"
   ]
  },
  {
   "cell_type": "code",
   "execution_count": 7,
   "metadata": {
    "pycharm": {
     "is_executing": false
    }
   },
   "outputs": [
    {
     "data": {
      "text/plain": [
       "pam_unix    19552\n",
       "1               1\n",
       "Name: authentication, dtype: int64"
      ]
     },
     "execution_count": 7,
     "metadata": {},
     "output_type": "execute_result"
    }
   ],
   "source": [
    "data['authentication'].value_counts()"
   ]
  },
  {
   "cell_type": "markdown",
   "metadata": {},
   "source": [
    "Drop the columns that bring bias into the data. Even when the logs have several messages related to the same process id, some of log alets are corrupted or have missing value of the  process id. Message and process id values are informative only in the context of current dataset, so they need to be dropped out. Host privilige already contains information represented by the host name, so this feature also should be dropped out."
   ]
  },
  {
   "cell_type": "code",
   "execution_count": 6,
   "metadata": {
    "pycharm": {
     "is_executing": false
    }
   },
   "outputs": [],
   "source": [
    "data.drop(['process_id'], 1, inplace=True)\n",
    "data.drop(['message_id'], 1, inplace=True)\n",
    "data.drop(['host_privilege'], 1, inplace=True)"
   ]
  },
  {
   "cell_type": "markdown",
   "metadata": {},
   "source": [
    "## II. Missing entries overview"
   ]
  },
  {
   "cell_type": "code",
   "execution_count": 8,
   "metadata": {
    "pycharm": {
     "is_executing": false
    }
   },
   "outputs": [
    {
     "data": {
      "text/plain": [
       "alert_class            0\n",
       "host_name              0\n",
       "message              850\n",
       "datetime               0\n",
       "unix_date              0\n",
       "weekday                0\n",
       "tool_name              0\n",
       "authentication    210114\n",
       "dtype: int64"
      ]
     },
     "execution_count": 8,
     "metadata": {},
     "output_type": "execute_result"
    }
   ],
   "source": [
    "data.isnull().sum()"
   ]
  },
  {
   "cell_type": "markdown",
   "metadata": {},
   "source": [
    "514 entries have logs with lost messages. As the message was missing due to the connection failure, all missing values are going to be replaced with 'Connection failure' message.\n",
    "191555 entries have logs with missing authentication value - it means that the session can be already running or closed, it is unclear because log messages generated by different tools have different signatures, so as we are unaware of the context, fill all missing authentication values as unknown."
   ]
  },
  {
   "cell_type": "code",
   "execution_count": 9,
   "metadata": {
    "pycharm": {
     "is_executing": false
    }
   },
   "outputs": [
    {
     "data": {
      "text/plain": [
       "alert_class       0\n",
       "host_name         0\n",
       "message           0\n",
       "datetime          0\n",
       "unix_date         0\n",
       "weekday           0\n",
       "tool_name         0\n",
       "authentication    0\n",
       "dtype: int64"
      ]
     },
     "execution_count": 9,
     "metadata": {},
     "output_type": "execute_result"
    }
   ],
   "source": [
    "data['message'].fillna(\"Connection failure\", inplace = True)\n",
    "data['authentication'].fillna(\"unknown\", inplace = True)\n",
    "data.isnull().sum()"
   ]
  },
  {
   "cell_type": "code",
   "execution_count": null,
   "metadata": {
    "pycharm": {
     "is_executing": false
    }
   },
   "outputs": [],
   "source": [
    "data['message'].value_counts()"
   ]
  },
  {
   "cell_type": "code",
   "execution_count": null,
   "metadata": {
    "pycharm": {
     "is_executing": false
    }
   },
   "outputs": [],
   "source": [
    "data['message'].value_counts() == 1"
   ]
  },
  {
   "cell_type": "markdown",
   "metadata": {},
   "source": [
    "New features are going to be extracted based on entities that will be recognized in the message."
   ]
  },
  {
   "cell_type": "markdown",
   "metadata": {},
   "source": [
    "## III.  Feature encoding \n"
   ]
  },
  {
   "cell_type": "code",
   "execution_count": 10,
   "metadata": {
    "pycharm": {
     "is_executing": false
    }
   },
   "outputs": [
    {
     "data": {
      "text/plain": [
       "-                 219653\n",
       "R_VAPI              7705\n",
       "R_MTT               2140\n",
       "N_CALL_TR            146\n",
       "R_SCSI1                8\n",
       "N_NFS                  5\n",
       "R_MPT                  4\n",
       "R_EXT_FS_ABRT2         3\n",
       "R_EXT_INODE2           1\n",
       "R_EXT_FS_ABRT1         1\n",
       "R_SCSI0                1\n",
       "Name: alert_class, dtype: int64"
      ]
     },
     "execution_count": 10,
     "metadata": {},
     "output_type": "execute_result"
    }
   ],
   "source": [
    "data.alert_class.value_counts()"
   ]
  },
  {
   "cell_type": "markdown",
   "metadata": {},
   "source": [
    "The sample contains 219653 non-alert messages, that is the majority of records.\n",
    "All other log types belong to different alert types.\n",
    "\n",
    "Encode alert / non-alert classes as follows:"
   ]
  },
  {
   "cell_type": "code",
   "execution_count": 11,
   "metadata": {
    "pycharm": {
     "is_executing": false
    }
   },
   "outputs": [
    {
     "data": {
      "text/plain": [
       "0    219653\n",
       "1     10014\n",
       "Name: alert_class, dtype: int64"
      ]
     },
     "execution_count": 11,
     "metadata": {},
     "output_type": "execute_result"
    }
   ],
   "source": [
    "log_type_dict = {'-':0, '^(?!.*-).*$':1}\n",
    "\n",
    "data['alert_class'] = data['alert_class'].replace(log_type_dict, regex=True)\n",
    "\n",
    "data.alert_class.value_counts()"
   ]
  },
  {
   "cell_type": "code",
   "execution_count": 12,
   "metadata": {
    "pycharm": {
     "is_executing": false
    }
   },
   "outputs": [
    {
     "data": {
      "text/html": [
       "<div>\n",
       "<style scoped>\n",
       "    .dataframe tbody tr th:only-of-type {\n",
       "        vertical-align: middle;\n",
       "    }\n",
       "\n",
       "    .dataframe tbody tr th {\n",
       "        vertical-align: top;\n",
       "    }\n",
       "\n",
       "    .dataframe thead th {\n",
       "        text-align: right;\n",
       "    }\n",
       "</style>\n",
       "<table border=\"1\" class=\"dataframe\">\n",
       "  <thead>\n",
       "    <tr style=\"text-align: right;\">\n",
       "      <th></th>\n",
       "      <th>host_name</th>\n",
       "      <th>message</th>\n",
       "      <th>tool_name</th>\n",
       "      <th>authentication</th>\n",
       "    </tr>\n",
       "  </thead>\n",
       "  <tbody>\n",
       "    <tr>\n",
       "      <th>0</th>\n",
       "      <td>951</td>\n",
       "      <td>6504</td>\n",
       "      <td>100</td>\n",
       "      <td>2</td>\n",
       "    </tr>\n",
       "    <tr>\n",
       "      <th>1</th>\n",
       "      <td>3928</td>\n",
       "      <td>24</td>\n",
       "      <td>24</td>\n",
       "      <td>2</td>\n",
       "    </tr>\n",
       "    <tr>\n",
       "      <th>2</th>\n",
       "      <td>2071</td>\n",
       "      <td>14157</td>\n",
       "      <td>53</td>\n",
       "      <td>2</td>\n",
       "    </tr>\n",
       "    <tr>\n",
       "      <th>3</th>\n",
       "      <td>163</td>\n",
       "      <td>6026</td>\n",
       "      <td>14</td>\n",
       "      <td>2</td>\n",
       "    </tr>\n",
       "    <tr>\n",
       "      <th>4</th>\n",
       "      <td>182</td>\n",
       "      <td>25828</td>\n",
       "      <td>24</td>\n",
       "      <td>1</td>\n",
       "    </tr>\n",
       "    <tr>\n",
       "      <th>5</th>\n",
       "      <td>562</td>\n",
       "      <td>19486</td>\n",
       "      <td>34</td>\n",
       "      <td>2</td>\n",
       "    </tr>\n",
       "    <tr>\n",
       "      <th>6</th>\n",
       "      <td>3599</td>\n",
       "      <td>860</td>\n",
       "      <td>53</td>\n",
       "      <td>2</td>\n",
       "    </tr>\n",
       "    <tr>\n",
       "      <th>7</th>\n",
       "      <td>693</td>\n",
       "      <td>20132</td>\n",
       "      <td>53</td>\n",
       "      <td>2</td>\n",
       "    </tr>\n",
       "    <tr>\n",
       "      <th>8</th>\n",
       "      <td>339</td>\n",
       "      <td>6011</td>\n",
       "      <td>14</td>\n",
       "      <td>2</td>\n",
       "    </tr>\n",
       "    <tr>\n",
       "      <th>9</th>\n",
       "      <td>4785</td>\n",
       "      <td>20800</td>\n",
       "      <td>43</td>\n",
       "      <td>2</td>\n",
       "    </tr>\n",
       "  </tbody>\n",
       "</table>\n",
       "</div>"
      ],
      "text/plain": [
       "   host_name  message  tool_name  authentication\n",
       "0        951     6504        100               2\n",
       "1       3928       24         24               2\n",
       "2       2071    14157         53               2\n",
       "3        163     6026         14               2\n",
       "4        182    25828         24               1\n",
       "5        562    19486         34               2\n",
       "6       3599      860         53               2\n",
       "7        693    20132         53               2\n",
       "8        339     6011         14               2\n",
       "9       4785    20800         43               2"
      ]
     },
     "execution_count": 12,
     "metadata": {},
     "output_type": "execute_result"
    }
   ],
   "source": [
    "# Categorical boolean mask\n",
    "categorical_feature_mask = data.dtypes==object# filter categorical columns using mask and turn it into a list\n",
    "categorical_cols = data.columns[categorical_feature_mask].tolist()\n",
    "\n",
    "le = LabelEncoder()\n",
    "data[categorical_cols] = data[categorical_cols].apply(lambda col: le.fit_transform(col))\n",
    "\n",
    "data[categorical_cols].head(10)"
   ]
  },
  {
   "cell_type": "markdown",
   "metadata": {},
   "source": [
    "## IV. Feature engineering\n",
    "\n",
    "a) Lag feature from the timestamp\n",
    "\n",
    "As the timestamp feature itself would likely not show the correct correlation between the extract variables affecting alert type of the message, the lag feature is extracted for the **alert_class** based on the alert type of the previous record. All 200,000 log records were intentionally extracted keeping the original order based on the timestamp from the raw dataset. The **t-1** lag feature for alert type is extracted as follows:"
   ]
  },
  {
   "cell_type": "code",
   "execution_count": 21,
   "metadata": {},
   "outputs": [],
   "source": [
    "data = data.sort_values(by='unix_date')"
   ]
  },
  {
   "cell_type": "code",
   "execution_count": 24,
   "metadata": {
    "pycharm": {
     "is_executing": false
    }
   },
   "outputs": [
    {
     "data": {
      "text/html": [
       "<div>\n",
       "<style scoped>\n",
       "    .dataframe tbody tr th:only-of-type {\n",
       "        vertical-align: middle;\n",
       "    }\n",
       "\n",
       "    .dataframe tbody tr th {\n",
       "        vertical-align: top;\n",
       "    }\n",
       "\n",
       "    .dataframe thead th {\n",
       "        text-align: right;\n",
       "    }\n",
       "</style>\n",
       "<table border=\"1\" class=\"dataframe\">\n",
       "  <thead>\n",
       "    <tr style=\"text-align: right;\">\n",
       "      <th></th>\n",
       "      <th>alert_class</th>\n",
       "      <th>host_name</th>\n",
       "      <th>message</th>\n",
       "      <th>datetime</th>\n",
       "      <th>unix_date</th>\n",
       "      <th>weekday</th>\n",
       "      <th>tool_name</th>\n",
       "      <th>authentication</th>\n",
       "      <th>lag_1</th>\n",
       "    </tr>\n",
       "  </thead>\n",
       "  <tbody>\n",
       "    <tr>\n",
       "      <th>87384</th>\n",
       "      <td>0</td>\n",
       "      <td>2599</td>\n",
       "      <td>26107</td>\n",
       "      <td>2005-11-09 11:11:34</td>\n",
       "      <td>1.131535e+12</td>\n",
       "      <td>2</td>\n",
       "      <td>73</td>\n",
       "      <td>2</td>\n",
       "      <td>NaN</td>\n",
       "    </tr>\n",
       "    <tr>\n",
       "      <th>122514</th>\n",
       "      <td>0</td>\n",
       "      <td>2606</td>\n",
       "      <td>10141</td>\n",
       "      <td>2005-11-09 11:14:35</td>\n",
       "      <td>1.131535e+12</td>\n",
       "      <td>2</td>\n",
       "      <td>53</td>\n",
       "      <td>2</td>\n",
       "      <td>0.0</td>\n",
       "    </tr>\n",
       "    <tr>\n",
       "      <th>11996</th>\n",
       "      <td>0</td>\n",
       "      <td>2606</td>\n",
       "      <td>901</td>\n",
       "      <td>2005-11-09 11:14:35</td>\n",
       "      <td>1.131535e+12</td>\n",
       "      <td>2</td>\n",
       "      <td>53</td>\n",
       "      <td>2</td>\n",
       "      <td>0.0</td>\n",
       "    </tr>\n",
       "    <tr>\n",
       "      <th>129534</th>\n",
       "      <td>0</td>\n",
       "      <td>2606</td>\n",
       "      <td>26196</td>\n",
       "      <td>2005-11-09 11:14:35</td>\n",
       "      <td>1.131535e+12</td>\n",
       "      <td>2</td>\n",
       "      <td>53</td>\n",
       "      <td>2</td>\n",
       "      <td>0.0</td>\n",
       "    </tr>\n",
       "    <tr>\n",
       "      <th>144940</th>\n",
       "      <td>0</td>\n",
       "      <td>2</td>\n",
       "      <td>25839</td>\n",
       "      <td>2005-11-09 11:21:09</td>\n",
       "      <td>1.131535e+12</td>\n",
       "      <td>2</td>\n",
       "      <td>104</td>\n",
       "      <td>1</td>\n",
       "      <td>0.0</td>\n",
       "    </tr>\n",
       "  </tbody>\n",
       "</table>\n",
       "</div>"
      ],
      "text/plain": [
       "        alert_class  host_name  message            datetime     unix_date  \\\n",
       "87384             0       2599    26107 2005-11-09 11:11:34  1.131535e+12   \n",
       "122514            0       2606    10141 2005-11-09 11:14:35  1.131535e+12   \n",
       "11996             0       2606      901 2005-11-09 11:14:35  1.131535e+12   \n",
       "129534            0       2606    26196 2005-11-09 11:14:35  1.131535e+12   \n",
       "144940            0          2    25839 2005-11-09 11:21:09  1.131535e+12   \n",
       "\n",
       "        weekday  tool_name  authentication  lag_1  \n",
       "87384         2         73               2    NaN  \n",
       "122514        2         53               2    0.0  \n",
       "11996         2         53               2    0.0  \n",
       "129534        2         53               2    0.0  \n",
       "144940        2        104               1    0.0  "
      ]
     },
     "execution_count": 24,
     "metadata": {},
     "output_type": "execute_result"
    }
   ],
   "source": [
    "data['lag_1'] = data['alert_class'].shift(1)\n",
    "data.head()"
   ]
  },
  {
   "cell_type": "code",
   "execution_count": 25,
   "metadata": {},
   "outputs": [
    {
     "data": {
      "text/plain": [
       "0.0    5\n",
       "Name: lag_1, dtype: int64"
      ]
     },
     "execution_count": 25,
     "metadata": {},
     "output_type": "execute_result"
    }
   ],
   "source": [
    "data['lag_1'].fillna(0, inplace = True)\n",
    "data['lag_1'].value_counts()"
   ]
  },
  {
   "cell_type": "code",
   "execution_count": 20,
   "metadata": {},
   "outputs": [
    {
     "data": {
      "text/html": [
       "<div>\n",
       "<style scoped>\n",
       "    .dataframe tbody tr th:only-of-type {\n",
       "        vertical-align: middle;\n",
       "    }\n",
       "\n",
       "    .dataframe tbody tr th {\n",
       "        vertical-align: top;\n",
       "    }\n",
       "\n",
       "    .dataframe thead th {\n",
       "        text-align: right;\n",
       "    }\n",
       "</style>\n",
       "<table border=\"1\" class=\"dataframe\">\n",
       "  <thead>\n",
       "    <tr style=\"text-align: right;\">\n",
       "      <th></th>\n",
       "      <th>alert_class</th>\n",
       "      <th>host_name</th>\n",
       "      <th>message</th>\n",
       "      <th>datetime</th>\n",
       "      <th>unix_date</th>\n",
       "      <th>weekday</th>\n",
       "      <th>tool_name</th>\n",
       "      <th>authentication</th>\n",
       "      <th>lag_1</th>\n",
       "    </tr>\n",
       "  </thead>\n",
       "  <tbody>\n",
       "    <tr>\n",
       "      <th>0</th>\n",
       "      <td>0</td>\n",
       "      <td>951</td>\n",
       "      <td>6504</td>\n",
       "      <td>2006-01-03 14:30:31</td>\n",
       "      <td>1.136299e+12</td>\n",
       "      <td>1</td>\n",
       "      <td>100</td>\n",
       "      <td>2</td>\n",
       "      <td>0.0</td>\n",
       "    </tr>\n",
       "    <tr>\n",
       "      <th>1</th>\n",
       "      <td>0</td>\n",
       "      <td>3928</td>\n",
       "      <td>24</td>\n",
       "      <td>2005-12-23 05:58:06</td>\n",
       "      <td>1.135317e+12</td>\n",
       "      <td>4</td>\n",
       "      <td>24</td>\n",
       "      <td>2</td>\n",
       "      <td>0.0</td>\n",
       "    </tr>\n",
       "    <tr>\n",
       "      <th>2</th>\n",
       "      <td>0</td>\n",
       "      <td>2071</td>\n",
       "      <td>14157</td>\n",
       "      <td>2006-01-04 15:05:29</td>\n",
       "      <td>1.136387e+12</td>\n",
       "      <td>2</td>\n",
       "      <td>53</td>\n",
       "      <td>2</td>\n",
       "      <td>0.0</td>\n",
       "    </tr>\n",
       "    <tr>\n",
       "      <th>3</th>\n",
       "      <td>0</td>\n",
       "      <td>163</td>\n",
       "      <td>6026</td>\n",
       "      <td>2005-12-11 19:03:45</td>\n",
       "      <td>1.134328e+12</td>\n",
       "      <td>6</td>\n",
       "      <td>14</td>\n",
       "      <td>2</td>\n",
       "      <td>0.0</td>\n",
       "    </tr>\n",
       "    <tr>\n",
       "      <th>4</th>\n",
       "      <td>0</td>\n",
       "      <td>182</td>\n",
       "      <td>25828</td>\n",
       "      <td>2005-12-22 23:01:04</td>\n",
       "      <td>1.135292e+12</td>\n",
       "      <td>3</td>\n",
       "      <td>24</td>\n",
       "      <td>1</td>\n",
       "      <td>0.0</td>\n",
       "    </tr>\n",
       "  </tbody>\n",
       "</table>\n",
       "</div>"
      ],
      "text/plain": [
       "   alert_class  host_name  message            datetime     unix_date  weekday  \\\n",
       "0            0        951     6504 2006-01-03 14:30:31  1.136299e+12        1   \n",
       "1            0       3928       24 2005-12-23 05:58:06  1.135317e+12        4   \n",
       "2            0       2071    14157 2006-01-04 15:05:29  1.136387e+12        2   \n",
       "3            0        163     6026 2005-12-11 19:03:45  1.134328e+12        6   \n",
       "4            0        182    25828 2005-12-22 23:01:04  1.135292e+12        3   \n",
       "\n",
       "   tool_name  authentication  lag_1  \n",
       "0        100               2    0.0  \n",
       "1         24               2    0.0  \n",
       "2         53               2    0.0  \n",
       "3         14               2    0.0  \n",
       "4         24               1    0.0  "
      ]
     },
     "execution_count": 20,
     "metadata": {},
     "output_type": "execute_result"
    }
   ],
   "source": [
    "data.head()"
   ]
  },
  {
   "cell_type": "markdown",
   "metadata": {},
   "source": [
    "## V. Features overview\n",
    "\n",
    "Frequency distribution of alert and non-alert messages:"
   ]
  },
  {
   "cell_type": "code",
   "execution_count": null,
   "metadata": {
    "pycharm": {
     "is_executing": false
    }
   },
   "outputs": [],
   "source": [
    "%matplotlib inline\n",
    "count = data['alert_class'].value_counts()\n",
    "sns.set(style=\"darkgrid\")\n",
    "sns.barplot(count.index, count.values, alpha=0.9)\n",
    "plt.title('Frequency Distribution of Alert and Non-Alert Messages')\n",
    "plt.ylabel('Number of Occurrences', fontsize=15)\n",
    "plt.xlabel('Message Type', fontsize=15)\n",
    "plt.show()"
   ]
  },
  {
   "cell_type": "code",
   "execution_count": null,
   "metadata": {
    "pycharm": {
     "is_executing": false
    }
   },
   "outputs": [],
   "source": [
    "labels = data['alert_class'].astype('category').cat.categories.tolist()\n",
    "counts = data['alert_class'].value_counts()\n",
    "sizes = [counts[var_cat] for var_cat in labels]\n",
    "fig1, ax1 = plt.subplots()\n",
    "ax1.pie(sizes, labels=labels, autopct='%1.1f%%', shadow=True)\n",
    "ax1.axis('equal')\n",
    "plt.show()"
   ]
  },
  {
   "cell_type": "markdown",
   "metadata": {},
   "source": [
    "As it is seen from the pie plot above, there are only 4,4% records that behave as anomalies."
   ]
  },
  {
   "cell_type": "markdown",
   "metadata": {},
   "source": [
    "## VI. Features correlation heatmap"
   ]
  },
  {
   "cell_type": "code",
   "execution_count": null,
   "metadata": {
    "pycharm": {
     "is_executing": false
    }
   },
   "outputs": [],
   "source": [
    "data.head()"
   ]
  },
  {
   "cell_type": "code",
   "execution_count": null,
   "metadata": {
    "pycharm": {
     "is_executing": false
    }
   },
   "outputs": [],
   "source": [
    "fig, ax = plt.subplots(figsize=(60, 60))\n",
    "sns.set(font_scale=10)\n",
    "correlation_matrix = data.corr(method='pearson', min_periods=1)\n",
    "sns.heatmap(correlation_matrix, ax=ax, cmap=\"plasma\", fmt=\"d\")\n",
    "ax.set_ylabel('')\n",
    "ax.set_xlabel('')\n",
    "plt.show()"
   ]
  },
  {
   "cell_type": "markdown",
   "metadata": {
    "pycharm": {
     "is_executing": true
    }
   },
   "source": [
    "As it is seen in the heatmap above, the majority of features have Pearson's correlation coefficient values around 0, meaning that the majority of features are not linearly strongly correlated nor have strong negative linear correlation.\n",
    "Features extracted from the timeframe attribute have strong negative linear correlation (marked with dark blue) or have extremely high linear correlation (marked with bright yellow).\n",
    "\n",
    "Features that are out of Pearson's linear correlation values range [0.2, 0.8] are going to be dropped out from the features set for reducing bias.\n"
   ]
  },
  {
   "cell_type": "code",
   "execution_count": null,
   "metadata": {
    "pycharm": {
     "is_executing": false
    }
   },
   "outputs": [],
   "source": [
    "fig, ax = plt.subplots(figsize=(60, 60))\n",
    "sns.set(font_scale=10)\n",
    "correlation_matrix = data.corr(method='spearman', min_periods=1)\n",
    "sns.heatmap(correlation_matrix, ax=ax, cmap=\"plasma\", fmt=\"d\")\n",
    "ax.set_ylabel('')\n",
    "ax.set_xlabel('')\n",
    "plt.show()"
   ]
  },
  {
   "cell_type": "code",
   "execution_count": null,
   "metadata": {
    "pycharm": {
     "is_executing": false
    }
   },
   "outputs": [],
   "source": []
  }
 ],
 "metadata": {
  "kernelspec": {
   "display_name": "Python 3",
   "language": "python",
   "name": "python3"
  },
  "language_info": {
   "codemirror_mode": {
    "name": "ipython",
    "version": 3
   },
   "file_extension": ".py",
   "mimetype": "text/x-python",
   "name": "python",
   "nbconvert_exporter": "python",
   "pygments_lexer": "ipython3",
   "version": "3.7.1rc1"
  },
  "pycharm": {
   "stem_cell": {
    "cell_type": "raw",
    "metadata": {
     "collapsed": false
    },
    "source": []
   }
  }
 },
 "nbformat": 4,
 "nbformat_minor": 1
}
